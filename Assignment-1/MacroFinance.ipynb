{
 "cells": [
  {
   "cell_type": "code",
   "execution_count": 47,
   "metadata": {},
   "outputs": [],
   "source": [
    "library(tidyverse)"
   ]
  },
  {
   "cell_type": "code",
   "execution_count": 48,
   "metadata": {
    "collapsed": true
   },
   "outputs": [
    {
     "name": "stderr",
     "output_type": "stream",
     "text": [
      "Parsed with column specification:\n",
      "cols(\n",
      "  DATE = col_double(),\n",
      "  vwretd = col_double(),\n",
      "  vwretx = col_double()\n",
      ")\n",
      "Parsed with column specification:\n",
      "cols(\n",
      "  caldt = col_double(),\n",
      "  b1ret = col_double(),\n",
      "  cpiret = col_double()\n",
      ")\n",
      "Parsed with column specification:\n",
      "cols(\n",
      "  caldt = col_double(),\n",
      "  t90ret = col_double(),\n",
      "  cpiret = col_double()\n",
      ")\n"
     ]
    }
   ],
   "source": [
    "setwd('C:\\\\Users\\\\austi\\\\Documents\\\\Github_Repos\\\\Macro_Finance\\\\Assignment-1\\\\Data')\n",
    "\n",
    "crsp = as_tibble(read_csv('crsp_monthly.csv'))\n",
    "tbillAnnual = as_tibble(read_csv('TBill_Annual.csv'))\n",
    "tbillQuarter = as_tibble(read_csv('TBill_Quarterly.csv'))"
   ]
  },
  {
   "cell_type": "code",
   "execution_count": 50,
   "metadata": {},
   "outputs": [
    {
     "data": {
      "text/html": [
       "<table>\n",
       "<thead><tr><th scope=col>caldt</th><th scope=col>b1ret</th><th scope=col>cpiret</th></tr></thead>\n",
       "<tbody>\n",
       "\t<tr><td>19411231 </td><td>-0.007792</td><td>0.099290 </td></tr>\n",
       "\t<tr><td>19421231 </td><td> 0.007513</td><td>0.090321 </td></tr>\n",
       "\t<tr><td>19431231 </td><td> 0.010048</td><td>0.029585 </td></tr>\n",
       "\t<tr><td>19441230 </td><td> 0.008435</td><td>0.022989 </td></tr>\n",
       "\t<tr><td>19451231 </td><td> 0.010161</td><td>0.022472 </td></tr>\n",
       "\t<tr><td>19461231 </td><td> 0.008126</td><td>0.181319 </td></tr>\n",
       "</tbody>\n",
       "</table>\n"
      ],
      "text/latex": [
       "\\begin{tabular}{r|lll}\n",
       " caldt & b1ret & cpiret\\\\\n",
       "\\hline\n",
       "\t 19411231  & -0.007792 & 0.099290 \\\\\n",
       "\t 19421231  &  0.007513 & 0.090321 \\\\\n",
       "\t 19431231  &  0.010048 & 0.029585 \\\\\n",
       "\t 19441230  &  0.008435 & 0.022989 \\\\\n",
       "\t 19451231  &  0.010161 & 0.022472 \\\\\n",
       "\t 19461231  &  0.008126 & 0.181319 \\\\\n",
       "\\end{tabular}\n"
      ],
      "text/markdown": [
       "\n",
       "| caldt | b1ret | cpiret |\n",
       "|---|---|---|\n",
       "| 19411231  | -0.007792 | 0.099290  |\n",
       "| 19421231  |  0.007513 | 0.090321  |\n",
       "| 19431231  |  0.010048 | 0.029585  |\n",
       "| 19441230  |  0.008435 | 0.022989  |\n",
       "| 19451231  |  0.010161 | 0.022472  |\n",
       "| 19461231  |  0.008126 | 0.181319  |\n",
       "\n"
      ],
      "text/plain": [
       "  caldt    b1ret     cpiret  \n",
       "1 19411231 -0.007792 0.099290\n",
       "2 19421231  0.007513 0.090321\n",
       "3 19431231  0.010048 0.029585\n",
       "4 19441230  0.008435 0.022989\n",
       "5 19451231  0.010161 0.022472\n",
       "6 19461231  0.008126 0.181319"
      ]
     },
     "metadata": {},
     "output_type": "display_data"
    }
   ],
   "source": [
    "head(tbillAnnual)"
   ]
  },
  {
   "cell_type": "code",
   "execution_count": null,
   "metadata": {},
   "outputs": [],
   "source": []
  }
 ],
 "metadata": {
  "kernelspec": {
   "display_name": "R",
   "language": "R",
   "name": "ir"
  },
  "language_info": {
   "codemirror_mode": "r",
   "file_extension": ".r",
   "mimetype": "text/x-r-source",
   "name": "R",
   "pygments_lexer": "r",
   "version": "3.5.1"
  },
  "toc": {
   "base_numbering": 1,
   "nav_menu": {},
   "number_sections": true,
   "sideBar": true,
   "skip_h1_title": false,
   "title_cell": "Table of Contents",
   "title_sidebar": "Contents",
   "toc_cell": false,
   "toc_position": {},
   "toc_section_display": true,
   "toc_window_display": false
  }
 },
 "nbformat": 4,
 "nbformat_minor": 2
}
